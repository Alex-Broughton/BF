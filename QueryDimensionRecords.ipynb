{
 "cells": [
  {
   "cell_type": "code",
   "execution_count": 18,
   "id": "33937e4d-c6db-4eaf-9cad-3d88cf4d4e26",
   "metadata": {},
   "outputs": [
    {
     "name": "stdout",
     "output_type": "stream",
     "text": [
      "17\n",
      "( 443,463,483,503,523,543,563,583,603,623,643,663,683,703,723,743,763,)\n"
     ]
    }
   ],
   "source": [
    "import numpy as np\n",
    "\n",
    "# Get distinct exptime files from run 12788\n",
    "arr = np.arange(443,765,20)\n",
    "print(len(arr))\n",
    "string = \"( \"\n",
    "for e in arr:\n",
    "    add = str(e) + \",\"\n",
    "    string += add\n",
    "    \n",
    "string += \")\"\n",
    "print(string)"
   ]
  },
  {
   "cell_type": "code",
   "execution_count": 16,
   "id": "caff2f7f-af89-46cb-9237-7c75dac7c510",
   "metadata": {},
   "outputs": [
    {
     "data": {
      "text/plain": [
       "48"
      ]
     },
     "execution_count": 16,
     "metadata": {},
     "output_type": "execute_result"
    }
   ],
   "source": [
    "(len(arr) - 1)*3"
   ]
  },
  {
   "cell_type": "code",
   "execution_count": 15,
   "id": "9abf57bb-260a-436c-8729-27b8a3779b36",
   "metadata": {},
   "outputs": [
    {
     "name": "stdout",
     "output_type": "stream",
     "text": [
      "\u001b[0;31minstrument       id      physical_filter        obs_id        exposure_time dark_time observation_type observation_reason day_obs  seq_num   group_name     group_id   target_name science_program tracking_ra tracking_dec sky_angle zenith_angle                       timespan [2]                      \u001b[0m\n",
      "\u001b[0;31m---------- ------------- --------------- -------------------- ------------- --------- ---------------- ------------------ -------- ------- ------------- ------------- ----------- --------------- ----------- ------------ --------- ------------ --------------------------------------------------------\u001b[0m\n",
      "   LSSTCam 3020112600463         unknown MC_C_20201126_000463          12.0   12.5336             spot          spot_flat 20201126     463 3020112600463 3020112600463     UNKNOWN           12788        None         None      None         None 2020-11-26 21:36:10.573018 .. 2020-11-26 21:36:22.573018\n",
      "   LSSTCam 3020112600483         unknown MC_C_20201126_000483          14.0   14.6559             spot          spot_flat 20201126     483 3020112600483 3020112600483     UNKNOWN           12788        None         None      None         None 2020-11-26 21:42:21.945013 .. 2020-11-26 21:42:35.945013\n",
      "   LSSTCam 3020112600503         unknown MC_C_20201126_000503          16.0   16.7075             spot          spot_flat 20201126     503 3020112600503 3020112600503     UNKNOWN           12788        None         None      None         None 2020-11-26 21:49:04.500987 .. 2020-11-26 21:49:20.500987\n",
      "   LSSTCam 3020112600523         unknown MC_C_20201126_000523          18.0   18.5791             spot          spot_flat 20201126     523 3020112600523 3020112600523     UNKNOWN           12788        None         None      None         None 2020-11-26 21:56:25.484996 .. 2020-11-26 21:56:43.484996\n",
      "   LSSTCam 3020112600543         unknown MC_C_20201126_000543          20.0   20.5857             spot          spot_flat 20201126     543 3020112600543 3020112600543     UNKNOWN           12788        None         None      None         None 2020-11-26 22:05:09.095997 .. 2020-11-26 22:05:29.095997\n",
      "   LSSTCam 3020112600563         unknown MC_C_20201126_000563          22.0   22.5643             spot          spot_flat 20201126     563 3020112600563 3020112600563     UNKNOWN           12788        None         None      None         None 2020-11-26 22:14:31.754985 .. 2020-11-26 22:14:53.754985\n",
      "   LSSTCam 3020112600583         unknown MC_C_20201126_000583          24.0     24.67             spot          spot_flat 20201126     583 3020112600583 3020112600583     UNKNOWN           12788        None         None      None         None 2020-11-26 22:24:40.205999 .. 2020-11-26 22:25:04.205999\n",
      "   LSSTCam 3020112600603         unknown MC_C_20201126_000603          26.0   26.6572             spot          spot_flat 20201126     603 3020112600603 3020112600603     UNKNOWN           12788        None         None      None         None 2020-11-26 22:42:13.563995 .. 2020-11-26 22:42:39.563995\n",
      "   LSSTCam 3020112600623         unknown MC_C_20201126_000623          28.0    28.602             spot          spot_flat 20201126     623 3020112600623 3020112600623     UNKNOWN           12788        None         None      None         None 2020-11-26 22:53:28.300991 .. 2020-11-26 22:53:56.300991\n",
      "   LSSTCam 3020112600643         unknown MC_C_20201126_000643          30.0    30.624             spot          spot_flat 20201126     643 3020112600643 3020112600643     UNKNOWN           12788        None         None      None         None 2020-11-26 23:06:30.481018 .. 2020-11-26 23:07:00.481018\n",
      "   LSSTCam 3020112600663         unknown MC_C_20201126_000663          32.0   32.5927             spot          spot_flat 20201126     663 3020112600663 3020112600663     UNKNOWN           12788        None         None      None         None 2020-11-26 23:22:47.640996 .. 2020-11-26 23:23:19.640996\n",
      "   LSSTCam 3020112600683         unknown MC_C_20201126_000683          34.0    34.687             spot          spot_flat 20201126     683 3020112600683 3020112600683     UNKNOWN           12788        None         None      None         None 2020-11-26 23:35:21.691985 .. 2020-11-26 23:35:55.691985\n",
      "   LSSTCam 3020112600703         unknown MC_C_20201126_000703          36.0   36.6794             spot          spot_flat 20201126     703 3020112600703 3020112600703     UNKNOWN           12788        None         None      None         None 2020-11-26 23:48:34.055018 .. 2020-11-26 23:49:10.055018\n",
      "   LSSTCam 3020112600723         unknown MC_C_20201126_000723          38.0    38.636             spot          spot_flat 20201126     723 3020112600723 3020112600723     UNKNOWN           12788        None         None      None         None 2020-11-27 00:02:29.008003 .. 2020-11-27 00:03:07.008003\n",
      "   LSSTCam 3020112600743         unknown MC_C_20201126_000743          40.0   40.6138             spot          spot_flat 20201126     743 3020112600743 3020112600743     UNKNOWN           12788        None         None      None         None 2020-11-27 00:17:14.356007 .. 2020-11-27 00:17:54.356007\n",
      "   LSSTCam 3020112600763         unknown MC_C_20201126_000763          50.0   50.6656             spot          spot_flat 20201126     763 3020112600763 3020112600763     UNKNOWN           12788        None         None      None         None 2020-11-27 00:35:20.266995 .. 2020-11-27 00:36:10.266995\n"
     ]
    }
   ],
   "source": [
    "! butler query-dimension-records --where \"instrument='LSSTCam' AND detector in ( 29 ) AND exposure.observation_type='spot' AND exposure.seq_num IN (463,483,503,523,543,563,583,603,623,643,663,683,703,723,743,763) AND exposure.science_program IN ( '12788' )\" /sdf/group/lsst/camera/IandT/repo_gen3/spot_test_v2 exposure"
   ]
  },
  {
   "cell_type": "code",
   "execution_count": null,
   "id": "f5f52f4e-9e4e-46db-a87d-811a66ac6bc1",
   "metadata": {},
   "outputs": [],
   "source": []
  }
 ],
 "metadata": {
  "kernelspec": {
   "display_name": "Python [conda env:lsst-scipipe-0.6.0-ext] *",
   "language": "python",
   "name": "conda-env-lsst-scipipe-0.6.0-ext-py"
  },
  "language_info": {
   "codemirror_mode": {
    "name": "ipython",
    "version": 3
   },
   "file_extension": ".py",
   "mimetype": "text/x-python",
   "name": "python",
   "nbconvert_exporter": "python",
   "pygments_lexer": "ipython3",
   "version": "3.8.8"
  }
 },
 "nbformat": 4,
 "nbformat_minor": 5
}
